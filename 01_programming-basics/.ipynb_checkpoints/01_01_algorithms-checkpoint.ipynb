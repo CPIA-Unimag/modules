{
 "cells": [
  {
   "cell_type": "markdown",
   "metadata": {},
   "source": [
    "<img src=\"../img/logo.png\"/>\n",
    "\n",
    "<h1 style=\"margin: 0; padding: 0;\"><center>Club de Programación e Inteligencia Artificial</center></h1>\n",
    "\n",
    "\n",
    "<br/><br/>\n",
    "\n",
    "<center> <strong> === </strong> </center>\n",
    "\n",
    "\n",
    "> # Módulo 01 - Desarrollo de competencias integrales en pensamiento algoritmico I\n",
    "\n",
    "## Unidad 01: Variables, Operaciones de entrada y salida, Operaciones matemáticas básicas.\n",
    "\n",
    "\n",
    "### Objetivos Generales\n",
    "Presentar conceptos básicos de programación utilizando el lenguaje Python 3.\n",
    "\n",
    "### Objetivos Específicos\n",
    "* Entender los conceptos de algoritmo, variable y tipo de dato.\n",
    "* Conocer las operaciones de entrada y salida.\n",
    "* Introducir los operadores matemáticos más frecuentes en lenguajes de programación.\n",
    "* Explorar algunas herramientas interactivas que facilitan el entendimiento de los algoritmos.\n",
    "\n",
    "\n",
    "> #### <font color='green'>*Los textos en verde constituyen buenas prácticas a tener en cuenta. *</font>\n",
    "> #### <font color='orange'>*Los textos en amarillo son informaciones útiles pero no imprescindibles. *</font>\n",
    "> #### <font color='red'>*Los textos en rojo son advertencias sobre posibles errores y cómo evitarlos. *</font>\n"
   ]
  },
  {
   "attachments": {},
   "cell_type": "markdown",
   "metadata": {},
   "source": [
    "<img width=\"300\" height=\"300\" src=\"img/algoritmo.jpg\"/>\n",
    "<center>Estructura de un algoritmo <a href=\"https://es.wikipedia.org/wiki/Algoritmo\">[1]</a>.</center>"
   ]
  },
  {
   "cell_type": "markdown",
   "metadata": {},
   "source": [
    "## Información básica\n",
    "Un algoritmo es una lista de instrucciones que serán desarrolladas en un orden específico con el objetivo de resolver un problema o realizar una operación. Por ejemplo, un algoritmo para encender el carro puede ser:\n",
    "\n",
    "1.\tAbrir la puerta.\n",
    "2.\tEntrar al carro y tomar asiento.\n",
    "3.\tInsertar la llave en el switch.\n",
    "4.\tGirar la llave en sentido horario y mantenerla hasta que el carro encienda.\n",
    "\n",
    "Los pasos anteriormente descritos tienen un orden lógico en el que son ejecutados, y para este algoritmo en particular, si intentamos realizar alguno de ellos en desorden no obtendríamos el resultado que queremos. Antes de girar la llave debemos haberla insertado. No podemos entrar al carro sin haber abierto la puerta.\n",
    "\n",
    "Generalmente, el buen diseño de un algoritmo se basa en responder las siguientes preguntas:\n",
    "\n",
    "* ¿Cuál es mi objetivo?\n",
    "* ¿Con qué información cuento para alcanzarlo? (datos de entrada)\n",
    "* ¿Que información voy a obtener al alcanzar mi objetivo? (datos de salida)\n",
    "* ¿Qué cálculos o procesos debo realizar?\n",
    "\n",
    "### Variables\n",
    "Un lenguaje de programación, sea cual sea, necesita poder tener acceso a y tener la capacidad de modificar información. Esto se logra por medio del uso de variables. Para utilizar una variable dentro de un programa, es necesario declararla primero. \n",
    "\n",
    "#### Declaración de Variables\n",
    "Para declarar una variable, primero debemos darle un nombre cualquiera a la variable utilizando letras y números sin espacios, teniendo en cuenta que las mayúsculas importan. Luego de darle un nombre a la variable, se le asigna un valor por medio del operador “=”.  De esta forma, el programa puede separar un bloque de memoria para la variable y guardar en dicho bloque el valor de esta. A diferencia de otros lenguajes de programación, ´Python es débilmente tipado, esto significa que no es necesario definir su tipo de antemano. Asimismo, en Python 3 no se puede declarar una variable sin asignarle un valor. \n",
    "\n",
    "Ejemplos de variables mal declaradas:\n",
    "\n",
    "    * variable entera = 10\n",
    "    * 1variable = \"Hola mundo.\"\n",
    "    * !variable = 2 * 4\n",
    "    * (variable = 2 * 5\n",
    "    \n",
    "Por lo general, es buena práctica utilizar letras minúsculas para comenzar los nombres de las variables, al igual que procurar que estos sean auto-contenidos. A continuación se muestran algunos casos que no generan error pero que es conveniente evitar:\n",
    "\n",
    "    * a = 1\n",
    "    * b = 2\n",
    "    ...\n",
    "    * z = 10\n",
    "    * Variable = 5\n",
    "    \n",
    "Nombres de variable como *a* y *b* pueden ser utilizados únicamente en contextos en los que tenga sentido (operaciones geométricas básicas). Por otro lado, es importante garantizar que los nombres de las variables sean legibles cuando estén compuestos por varias palabras. Un mal ejemplo es el siguiente:\n",
    "    \n",
    "    * contadorparaestudiantes = 0\n",
    "    \n",
    "Se tienen las siguientes alternativas:\n",
    "\n",
    "    * contador_para_estudiantes = 0\n",
    "    * contadorParaEstudiantes = 0\n",
    "    * contador_estudiantes = 0\n",
    "    * contEstudiantes = 0\n",
    "    \n",
    "    \n",
    "#### <font color='green'>*En general, podemos utilizar mayúsculas o el carácter guión bajo ( _ ) para nombrar nuestras variables. La única recomendación al respecto es mantener consistencia en la metodología usada.*</font>\n",
    "    \n"
   ]
  },
  {
   "cell_type": "markdown",
   "metadata": {},
   "source": [
    "### Tipos de variables\n",
    "\n",
    "Existen varios tipos de variables, según el tipo de información con la que se desee trabajar dentro de un programa."
   ]
  },
  {
   "cell_type": "markdown",
   "metadata": {},
   "source": [
    "#### Numérica\n",
    "Las variables de tipo numérico se utilizan para almacenar números. En Python 3, estas pueden ser números enteros o números reales. Los números enteros en Python 3 se denominan int. No necesitan nomenclatura adicional a la hora de ser declarados. Los números reales en Python 3 se denominan float. Para declarar un float, basta con incluir un punto como separador de decimales. Si tenemos una cantidad entera que queremos representar como un float, debemos de incluir el separador de decimales al final de la parte entera de la variable.\n"
   ]
  },
  {
   "cell_type": "code",
   "execution_count": 1,
   "metadata": {},
   "outputs": [
    {
     "name": "stdout",
     "output_type": "stream",
     "text": [
      "Variable entera:  2\n",
      "Variable real:  3.0\n",
      "Producto:  -8.6\n",
      "Suma entre variables entera y variable real:  5.0\n"
     ]
    }
   ],
   "source": [
    "# Ejecute estas instrucciones y observe el resultado obtenido\n",
    "variable_entera = 2         \n",
    "variable_real = 3.0\n",
    "producto = 4.3 * -2.0\n",
    "\n",
    "print(\"Variable entera: \", variable_entera)\n",
    "print(\"Variable real: \",variable_real)\n",
    "print(\"Producto: \", producto)\n",
    "print(\"Suma entre variables entera y variable real: \", variable_entera + variable_real)\n"
   ]
  },
  {
   "cell_type": "markdown",
   "metadata": {},
   "source": [
    "#### <font color='green'>*Como se observa arriba, siempre procuramos dejar un espacio entre los operadores como '=', y un espacio después de las comas. Esto ayuda a hacer nuestro código más legible.*</font>\n",
    "\n",
    "#### <font color='red'>*Python es bastante liberal con el uso de variables. Esta facilidad es compartida con otros lenguajes de programación como JavaScript, Matlab y R. Sin embargo, debemos tener precaución al momento de trabajar con lenguajes fuertemente tipados como C++ y Java.*</font>"
   ]
  },
  {
   "cell_type": "markdown",
   "metadata": {},
   "source": [
    "Podemos realizar conversiones entre distintos tipos de datos numéricos haciendo uso de las instrucciones **int** y **float**."
   ]
  },
  {
   "cell_type": "code",
   "execution_count": 3,
   "metadata": {},
   "outputs": [
    {
     "name": "stdout",
     "output_type": "stream",
     "text": [
      "Variable real:  2.5\n",
      "Variable entera 2:  2\n",
      "Variable real 2:  2.0\n"
     ]
    }
   ],
   "source": [
    "# Ejecute estas instrucciones y observe el resultado obtenido\n",
    "variable_real = 2.5\n",
    "\n",
    "variable_entera_2 = int(variable_entera) #Si se usa el comando int para convertir números reales, se trunca la parte decimal.\n",
    "\n",
    "variable_real_2 = float(variable_entera_2 ) # Cuando se convierte una variable entera a flotante, el resultado es\n",
    "                                            # la adición de un 0 como parte decimal. La parte real truncada en la\n",
    "                                            # línea 1 no es recuperable\n",
    "\n",
    "print(\"Variable real: \", variable_real )\n",
    "print(\"Variable entera 2: \", variable_entera_2 )\n",
    "print(\"Variable real 2: \", variable_real_2 )\n",
    "\n"
   ]
  },
  {
   "cell_type": "markdown",
   "metadata": {},
   "source": [
    "#### String\n",
    "Las variables de tipo <i>string</i> (cadena) se utilizan para almacenar texto, o cadenas de caracteres. Una string es un caso muy particular de una lista; es una lista de caracteres de texto que no puede ser modificada. Para evitarse la tarea de tener que escribir cada carácter individualmente como lo haríamos normalmente para una lista, en los strings basta con escribir el texto que se desee almacenar entre comillas y asignarle una variable. "
   ]
  },
  {
   "cell_type": "code",
   "execution_count": 10,
   "metadata": {},
   "outputs": [
    {
     "name": "stdout",
     "output_type": "stream",
     "text": [
      "Cadena 1:  Hola\n",
      "Cadena de números: 112341352573568\n",
      "Los dos strings combinados: Hola112341352573568\n",
      "Multiplicación de cadenas:  Hola Hola Hola Hola Hola \n"
     ]
    }
   ],
   "source": [
    "# Ejecute estas instrucciones y observe el resultado obtenido\n",
    "string1 = \"Hola\"\n",
    "string_de_numeros = \"112341352573568\"\n",
    "print(\"Cadena 1: \", string1)\n",
    "print(\"Cadena de números:\", string_de_numeros)\n",
    "print(\"Los dos strings combinados: \" + string1 + string_de_numeros) \n",
    "print(\"Multiplicación de cadenas: \", (string1 + \" \") * 5)"
   ]
  },
  {
   "cell_type": "markdown",
   "metadata": {},
   "source": [
    "#### Booleanas\n",
    "Son variables que almacenan un valor de <i>True</i> o <i>False</i>. Generalmente utilizadas para almacenar resultados de comparaciones.\n",
    "\n",
    "Nótese que ni <i>True</i> ni <i>False</i> se comportan como variables. Siempre que se escriban correctamente, el intérprete las toma como palabras claves propias de Python y nunca serán utilizadas como variables. En los dos ejemplos, tanto <i>True</i> como <i>False</i> no están escritos entre comillas y comienzan con una mayúscula. Esto es porque no son strings ni otras variables; son valores de verdad. "
   ]
  },
  {
   "cell_type": "code",
   "execution_count": 25,
   "metadata": {},
   "outputs": [
    {
     "name": "stdout",
     "output_type": "stream",
     "text": [
      "x es:  True\n"
     ]
    }
   ],
   "source": [
    "# Ejecute estas instrucciones y observe el resultado obtenido\n",
    "x = True\n",
    "y = False\n",
    "print(\"x es: \", x)"
   ]
  },
  {
   "cell_type": "markdown",
   "metadata": {},
   "source": [
    "#### Fechas\n",
    "Python 3 puede manejar fechas por medio del tipo de dato <i>date</i>. Se debe incluir la linea <i>import datetime</i> al comienzo del código para incluir las librerias necesarias para manejar las fechas. \n",
    "\n",
    "Para modificar una fecha, el tipo de dato <i>timedelta</i> se puede utilizar. Se pueden sumar días y semanas.\n"
   ]
  },
  {
   "cell_type": "code",
   "execution_count": 29,
   "metadata": {},
   "outputs": [
    {
     "name": "stdout",
     "output_type": "stream",
     "text": [
      "Fecha:  2008-08-13\n",
      "Fecha + 5 semanas + 3 días:  2008-09-20\n"
     ]
    }
   ],
   "source": [
    "# Ejecute estas instrucciones y observe el resultado obtenido\n",
    "import datetime\n",
    "\n",
    "                 #año, mes, dia\n",
    "x = datetime.date(2008, 8, 13)\n",
    "print(\"Fecha: \", x)\n",
    "\n",
    "y = x + datetime.timedelta(days = 3, weeks = 5)\n",
    "print(\"Fecha + 5 semanas + 3 días: \",y)"
   ]
  },
  {
   "cell_type": "markdown",
   "metadata": {},
   "source": [
    "### Ingreso y salida de datos\n",
    "Un programa debe tener la capacidad de comunicarse con el usuario. El usuario le ingresará la información requerida (datos de entrada) para ejecutar las sentencias y obtener un resultado satisfactorio (datos de salida). Por esta razón es necesario comprender cómo pedir y mostrar información al usuario; lo más habitual en el lenguaje Python 3 es implementar las sentencias print() para mostrar e input() para obtener información del usuario.\n",
    "\n",
    "Sintaxis de la sentencia print():\n",
    "\n",
    "print (valiable1,variable2,….,variableN)\n",
    "\n",
    "print() mostrará por pantalla cada una de las variables contenidas dentro de los paréntesis, nótese que cada variable está separada por una coma (,).             \n",
    "\n",
    "Sintaxis de la sentencia input():\n",
    "\n",
    "Variable = input (\"mensaje\")\n",
    "\n",
    "input() mostrará por pantalla el mensaje (variable tipo string) contenido dentro de los paréntesis, con el fin de indicarle al usuario, de una manera clara, qué información se pretende obtener de él. La información recibida debe ser almacenada en una variable; input() genera una cadena con los datos obtenidos, es decir, la Variable antes de los paréntesis será definida de tipo string, anulando la posibilidad de ser utilizada para cálculos matemáticos. Para resolver este problema se debe convertir esta cadena a un tipo de dato numérico. \n",
    "Por ahora veremos cómo cambiar a tipo entero (int) y a real (float), para hacerlo basta con poner la palabra int o float (según sea el caso) seguida de la sentencia input() encerrada entre paréntesis:\n",
    " \n",
    "Variable1 = input (\"mensaje\")    # lectura de variable tipo string\n",
    "\n",
    "Variable2 = int ( input (\"mensaje\"))  # lectura de variable tipo int\n",
    "\n",
    "Variable3 = float (input (\"mensaje\")) # lectura de variable tipo float"
   ]
  },
  {
   "cell_type": "markdown",
   "metadata": {},
   "source": [
    "### Pruebas de Escritorio\n",
    "Para comprobar si un algoritmo funciona o no (pero no para ver si está bien diseñado), se realizan pruebas de escritorio. Estas consisten en realizar todas las instrucciones del algoritmo como este las presenta, una a una, y ver si el resultado obtenido es el resultado esperado. \n",
    "\n",
    "Para realizar una prueba de escritorio a nuestro algoritmo de calcular el área de un triángulo, podemos tomar un triángulo con base, altura y área conocidas e ingresar los valores de su base y altura a nuestro algoritmo, para finalmente comparar los dos valores de las áreas. Si son iguales, sabemos que el algoritmo produce el resultado esperado.\n",
    "\n",
    "Esto no tiene en cuenta operaciones ociosas o inútiles dentro del algoritmo. Por ejemplo, podríamos tener varios pasos dentro del algoritmo que nos calculen la longitud de los otros dos lados del triángulo. Estos pasos no contribuyen a nuestro objetivo (encontrar el área) y se podrían eliminar del algoritmo, pero no afectan el resultado que obtenemos.\n",
    "\n",
    "### Operadores Numéricos\n",
    "Los operadores matemáticos básicos que tiene Python 3 son:\n",
    "* \" = \" : El operador de asignación. Sirve para asignarle un valor a una variable.\n",
    "* \" + \" : Sirve para sumar dos números.\n",
    "* \" - \" : Sirve para restar dos números.\n",
    "* \" * \" : Sirve para multiplicar dos números.\n",
    "* \" / \" : Divide dos números. Retorna el resultado como un float.\n",
    "* \" // \" : División entera entre dos números. Retorna la parte entera del valor de una división como un int.\n",
    "* \" % \" : Calcula el residuo de una división.\n",
    "\n",
    "\n",
    "Python puede ser usado de forma interactiva como una calculadora. Esto permite que el análisis de datos pueda ser realizado de forma interactiva. A continuación se ejemplifican los cálculos aritméticos básicos."
   ]
  },
  {
   "cell_type": "code",
   "execution_count": 37,
   "metadata": {},
   "outputs": [
    {
     "data": {
      "text/plain": [
       "7"
      ]
     },
     "execution_count": 37,
     "metadata": {},
     "output_type": "execute_result"
    }
   ],
   "source": [
    "2 + 2 + 3"
   ]
  },
  {
   "cell_type": "code",
   "execution_count": 30,
   "metadata": {},
   "outputs": [
    {
     "data": {
      "text/plain": [
       "28"
      ]
     },
     "execution_count": 30,
     "metadata": {},
     "output_type": "execute_result"
    }
   ],
   "source": [
    "50 - 5 * 6 + 8"
   ]
  },
  {
   "cell_type": "code",
   "execution_count": 32,
   "metadata": {},
   "outputs": [
    {
     "data": {
      "text/plain": [
       "4.0"
      ]
     },
     "execution_count": 32,
     "metadata": {},
     "output_type": "execute_result"
    }
   ],
   "source": [
    "(50 - 5 * 6) / 5"
   ]
  },
  {
   "cell_type": "code",
   "execution_count": 33,
   "metadata": {},
   "outputs": [
    {
     "data": {
      "text/plain": [
       "27"
      ]
     },
     "execution_count": 33,
     "metadata": {},
     "output_type": "execute_result"
    }
   ],
   "source": [
    "# El operador potencia es '**'. Se imprime 27 (3 al cubo)\n",
    "3**3"
   ]
  },
  {
   "cell_type": "code",
   "execution_count": 35,
   "metadata": {},
   "outputs": [
    {
     "data": {
      "text/plain": [
       "5"
      ]
     },
     "execution_count": 35,
     "metadata": {},
     "output_type": "execute_result"
    }
   ],
   "source": [
    "# Se elimina la parte decimal de la división. Se imprime 5.\n",
    "11//2"
   ]
  },
  {
   "cell_type": "code",
   "execution_count": 36,
   "metadata": {},
   "outputs": [
    {
     "data": {
      "text/plain": [
       "1"
      ]
     },
     "execution_count": 36,
     "metadata": {},
     "output_type": "execute_result"
    }
   ],
   "source": [
    "# Se presenta el residuo de una división. En el caso de 16 dividido 5, el resultado es 5 residuo 1.\n",
    "16%5"
   ]
  },
  {
   "cell_type": "code",
   "execution_count": 38,
   "metadata": {},
   "outputs": [
    {
     "data": {
      "text/plain": [
       "900"
      ]
     },
     "execution_count": 38,
     "metadata": {},
     "output_type": "execute_result"
    }
   ],
   "source": [
    "x = 20\n",
    "y = 5 * 9\n",
    "x * y"
   ]
  },
  {
   "cell_type": "code",
   "execution_count": 39,
   "metadata": {},
   "outputs": [
    {
     "data": {
      "text/plain": [
       "12.5625"
      ]
     },
     "execution_count": 39,
     "metadata": {},
     "output_type": "execute_result"
    }
   ],
   "source": [
    "a = 12.5 / 100\n",
    "b = 100.50\n",
    "a * b"
   ]
  },
  {
   "cell_type": "markdown",
   "metadata": {},
   "source": [
    "#### <font color='red'>*En los lenguajes de programación, las operaciones matemáticas siguen la precedencia usual, no tener esto en cuenta puede resultar en cálculos erroneos.*</font>\n",
    "\n",
    "Por ejemplo, suponga que quiere calcular la siguiente operación:\n",
    "\n",
    "# <center>  $a = 9^{ \\frac{1}{2} } $ </center>\n",
    "\n",
    "Una aproximación incorrecta sería:"
   ]
  },
  {
   "cell_type": "code",
   "execution_count": 44,
   "metadata": {},
   "outputs": [
    {
     "name": "stdout",
     "output_type": "stream",
     "text": [
      "4.5\n"
     ]
    }
   ],
   "source": [
    "a = 9**1/2\n",
    "print(a)"
   ]
  },
  {
   "cell_type": "markdown",
   "metadata": {},
   "source": [
    "La forma correcta de calcular esta operación es con el uso de paréntesis:"
   ]
  },
  {
   "cell_type": "code",
   "execution_count": 45,
   "metadata": {},
   "outputs": [
    {
     "name": "stdout",
     "output_type": "stream",
     "text": [
      "3.0\n"
     ]
    }
   ],
   "source": [
    "a = 9**(1/2)\n",
    "print(a)"
   ]
  },
  {
   "attachments": {},
   "cell_type": "markdown",
   "metadata": {},
   "source": [
    "A continuación, una útil tabla de referencia:\n",
    "    \n",
    "<img width=\"700\" height=\"700\" src=\"img/precedencias.png\"/>\n",
    "\n",
    "Tal como en nuestras clases de matemáticas, los paréntesis tienen precedencia ante todos estos operadores."
   ]
  },
  {
   "cell_type": "markdown",
   "metadata": {},
   "source": [
    "### Operadores para strings\n",
    "Hay muchas formas de manipular cadenas de caracteres en Python 3. Sin embargo, de momento nos enfocaremos en dos:\n",
    "\n",
    "* \" + \": El operador de concatenar. Sirve para unir dos cadenas de caracteres diferentes.\n",
    "* \" * \": El operador de repetición. Sirve para repetir una cadena de caracteres N cantidad de veces.\n"
   ]
  },
  {
   "cell_type": "code",
   "execution_count": 40,
   "metadata": {
    "scrolled": false
   },
   "outputs": [
    {
     "name": "stdout",
     "output_type": "stream",
     "text": [
      "HolaMundo\n",
      "HolaMundoHolaMundoHolaMundo\n"
     ]
    }
   ],
   "source": [
    "# Ejecute estas instrucciones y observe el resultado obtenido\n",
    "\n",
    "string1 = \"Hola\"\n",
    "string2 = \"Mundo\"\n",
    "string3 = string1+string2\n",
    "print(string3)\n",
    "\n",
    "string4 = string3*3\n",
    "print(string4)"
   ]
  },
  {
   "cell_type": "markdown",
   "metadata": {},
   "source": [
    "Aunque Python permite sumar y multiplicar cadenas, es necesario ser precavidos cuando intentamos realizar ciertas operaciones. Ignoremos la estructura try, except y centrémonos en los errores mostrados:"
   ]
  },
  {
   "cell_type": "code",
   "execution_count": 23,
   "metadata": {},
   "outputs": [
    {
     "name": "stdout",
     "output_type": "stream",
     "text": [
      "Hubo un error:   can't multiply sequence by non-int of type 'str'\n",
      "Hubo un error:  must be str, not int\n"
     ]
    }
   ],
   "source": [
    "try:\n",
    "    string_3 = string1 * string1                #La multiplicación de cadenas es una operación inválida.\n",
    "except Exception as ex:\n",
    "    print(\"Hubo un error:  \", ex)\n",
    "    \n",
    "try:\n",
    "    string_3 = string1 + \" \" + 4                      #No se pueden sumar valores numéricos con cadenas directamente.\n",
    "except Exception as ex:\n",
    "    print(\"Hubo un error: \", ex)"
   ]
  },
  {
   "cell_type": "code",
   "execution_count": 24,
   "metadata": {},
   "outputs": [
    {
     "name": "stdout",
     "output_type": "stream",
     "text": [
      "El siguiente es un número: 4\n"
     ]
    }
   ],
   "source": [
    "string_3 = \"El siguiente es un número: \" + str(4)     #Sin embargo, el uso del comando str() permite convertir\n",
    "print(string_3)                                       #la mayoría de variables de Python en cadenas.\n"
   ]
  },
  {
   "cell_type": "markdown",
   "metadata": {},
   "source": [
    "### Ejercicios\n",
    "Resuelva de manera integral (análisis, pseudocódigo, diagrama de caja y código en Python 3) cada uno de\n",
    "los siguientes ejercicios. \n",
    "Puede tomar el valor de π como 3.14. \n",
    "\n",
    "## Complete el código en caso de que sea necesario y utilice las fórmulas que se suministran en cada ejercicio. \n"
   ]
  },
  {
   "cell_type": "markdown",
   "metadata": {},
   "source": [
    "### Ejercicio 1\n",
    "Encuentre el área de un triángulo rectángulo isósceles a partir de la longitud de sus catetos, ingresados por el usuario. Recuerde que un triángulo isósceles tiene dos lados iguales y que el área de un triángulo está dada por:\n",
    "\n",
    "                                                (base * altura)/2"
   ]
  },
  {
   "cell_type": "code",
   "execution_count": null,
   "metadata": {
    "collapsed": true
   },
   "outputs": [],
   "source": [
    "cateto1 = float(input(\"Ingrese el valor del primer cateto: \"))\n",
    "cateto2 = float(input(\"Ingrese el valor del segundo cateto: \"))"
   ]
  },
  {
   "cell_type": "markdown",
   "metadata": {},
   "source": [
    "### Ejercicio 2\n",
    "Para un numero A cualquiera, ingresado por el usuario, calcule su cuadrado y posteriormente la raíz cuadrada para obtener siempre un resultado positivo. Recuerde que elevar un numero N a la (1/2) corresponde a calcular la raíz cuadrada de este."
   ]
  },
  {
   "cell_type": "code",
   "execution_count": null,
   "metadata": {
    "collapsed": true
   },
   "outputs": [],
   "source": [
    "numeroOriginal = float(input(\"Ingrese el valor del numero: \"))\n",
    "cuadrado =\n",
    "numeroPositivo ="
   ]
  },
  {
   "cell_type": "markdown",
   "metadata": {},
   "source": [
    "# Nota\n",
    "\n",
    "> Estos materiales fueron adaptados de los cursos de Ciencia de Datos Aplicada y Fundamentos de Programación de los profesores Juan David Velásquez Henao y Gabriel Awad Aubad de la Universidad Nacional de Colombia, Sede Medellín. A ellos rendimos crédito."
   ]
  },
  {
   "cell_type": "code",
   "execution_count": null,
   "metadata": {
    "collapsed": true
   },
   "outputs": [],
   "source": []
  }
 ],
 "metadata": {
  "kernelspec": {
   "display_name": "Python 3",
   "language": "python",
   "name": "python3"
  },
  "language_info": {
   "codemirror_mode": {
    "name": "ipython",
    "version": 3
   },
   "file_extension": ".py",
   "mimetype": "text/x-python",
   "name": "python",
   "nbconvert_exporter": "python",
   "pygments_lexer": "ipython3",
   "version": "3.6.4"
  }
 },
 "nbformat": 4,
 "nbformat_minor": 1
}
